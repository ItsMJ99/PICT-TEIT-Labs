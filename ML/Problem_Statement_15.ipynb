{
 "cells": [
  {
   "cell_type": "code",
   "execution_count": 1,
   "id": "0549b05b-d75d-404f-8c18-5d1dc59c2a7f",
   "metadata": {},
   "outputs": [],
   "source": [
    "import pandas as pd\n",
    "import numpy as np\n",
    "from apyori import apriori\n",
    "import matplotlib.pyplot as plt"
   ]
  },
  {
   "cell_type": "code",
   "execution_count": 2,
   "id": "b47fc5f8-2d43-4caa-878a-c4a469e4aca2",
   "metadata": {},
   "outputs": [],
   "source": [
    "df=pd.read_csv('Practical Exam Datasets/Apriori/Order1.csv')"
   ]
  },
  {
   "cell_type": "code",
   "execution_count": 3,
   "id": "40ffecd3-23e8-452f-8938-bdc64c959a09",
   "metadata": {},
   "outputs": [
    {
     "name": "stdout",
     "output_type": "stream",
     "text": [
      "<class 'pandas.core.frame.DataFrame'>\n",
      "RangeIndex: 38765 entries, 0 to 38764\n",
      "Data columns (total 3 columns):\n",
      " #   Column           Non-Null Count  Dtype \n",
      "---  ------           --------------  ----- \n",
      " 0   Member_number    38765 non-null  int64 \n",
      " 1   Date             38765 non-null  object\n",
      " 2   itemDescription  38765 non-null  object\n",
      "dtypes: int64(1), object(2)\n",
      "memory usage: 908.7+ KB\n"
     ]
    }
   ],
   "source": [
    "df.info()"
   ]
  },
  {
   "cell_type": "code",
   "execution_count": 4,
   "id": "91b22320-da8c-46b7-8835-faf02f3bcc2d",
   "metadata": {},
   "outputs": [
    {
     "data": {
      "text/html": [
       "<div>\n",
       "<style scoped>\n",
       "    .dataframe tbody tr th:only-of-type {\n",
       "        vertical-align: middle;\n",
       "    }\n",
       "\n",
       "    .dataframe tbody tr th {\n",
       "        vertical-align: top;\n",
       "    }\n",
       "\n",
       "    .dataframe thead th {\n",
       "        text-align: right;\n",
       "    }\n",
       "</style>\n",
       "<table border=\"1\" class=\"dataframe\">\n",
       "  <thead>\n",
       "    <tr style=\"text-align: right;\">\n",
       "      <th></th>\n",
       "      <th>Member_number</th>\n",
       "    </tr>\n",
       "  </thead>\n",
       "  <tbody>\n",
       "    <tr>\n",
       "      <th>count</th>\n",
       "      <td>38765.000000</td>\n",
       "    </tr>\n",
       "    <tr>\n",
       "      <th>mean</th>\n",
       "      <td>3003.641868</td>\n",
       "    </tr>\n",
       "    <tr>\n",
       "      <th>std</th>\n",
       "      <td>1153.611031</td>\n",
       "    </tr>\n",
       "    <tr>\n",
       "      <th>min</th>\n",
       "      <td>1000.000000</td>\n",
       "    </tr>\n",
       "    <tr>\n",
       "      <th>25%</th>\n",
       "      <td>2002.000000</td>\n",
       "    </tr>\n",
       "    <tr>\n",
       "      <th>50%</th>\n",
       "      <td>3005.000000</td>\n",
       "    </tr>\n",
       "    <tr>\n",
       "      <th>75%</th>\n",
       "      <td>4007.000000</td>\n",
       "    </tr>\n",
       "    <tr>\n",
       "      <th>max</th>\n",
       "      <td>5000.000000</td>\n",
       "    </tr>\n",
       "  </tbody>\n",
       "</table>\n",
       "</div>"
      ],
      "text/plain": [
       "       Member_number\n",
       "count   38765.000000\n",
       "mean     3003.641868\n",
       "std      1153.611031\n",
       "min      1000.000000\n",
       "25%      2002.000000\n",
       "50%      3005.000000\n",
       "75%      4007.000000\n",
       "max      5000.000000"
      ]
     },
     "execution_count": 4,
     "metadata": {},
     "output_type": "execute_result"
    }
   ],
   "source": [
    "df.describe()"
   ]
  },
  {
   "cell_type": "code",
   "execution_count": 5,
   "id": "124c96ab-6df2-4a27-90da-d270767da0f6",
   "metadata": {},
   "outputs": [
    {
     "data": {
      "text/plain": [
       "(38765, 3)"
      ]
     },
     "execution_count": 5,
     "metadata": {},
     "output_type": "execute_result"
    }
   ],
   "source": [
    "df.shape"
   ]
  },
  {
   "cell_type": "code",
   "execution_count": 6,
   "id": "d66bb858-b631-4576-943b-be72f851562a",
   "metadata": {},
   "outputs": [
    {
     "data": {
      "text/html": [
       "<div>\n",
       "<style scoped>\n",
       "    .dataframe tbody tr th:only-of-type {\n",
       "        vertical-align: middle;\n",
       "    }\n",
       "\n",
       "    .dataframe tbody tr th {\n",
       "        vertical-align: top;\n",
       "    }\n",
       "\n",
       "    .dataframe thead th {\n",
       "        text-align: right;\n",
       "    }\n",
       "</style>\n",
       "<table border=\"1\" class=\"dataframe\">\n",
       "  <thead>\n",
       "    <tr style=\"text-align: right;\">\n",
       "      <th></th>\n",
       "      <th>Member_number</th>\n",
       "      <th>Date</th>\n",
       "      <th>itemDescription</th>\n",
       "    </tr>\n",
       "  </thead>\n",
       "  <tbody>\n",
       "    <tr>\n",
       "      <th>0</th>\n",
       "      <td>False</td>\n",
       "      <td>False</td>\n",
       "      <td>False</td>\n",
       "    </tr>\n",
       "    <tr>\n",
       "      <th>1</th>\n",
       "      <td>False</td>\n",
       "      <td>False</td>\n",
       "      <td>False</td>\n",
       "    </tr>\n",
       "    <tr>\n",
       "      <th>2</th>\n",
       "      <td>False</td>\n",
       "      <td>False</td>\n",
       "      <td>False</td>\n",
       "    </tr>\n",
       "    <tr>\n",
       "      <th>3</th>\n",
       "      <td>False</td>\n",
       "      <td>False</td>\n",
       "      <td>False</td>\n",
       "    </tr>\n",
       "    <tr>\n",
       "      <th>4</th>\n",
       "      <td>False</td>\n",
       "      <td>False</td>\n",
       "      <td>False</td>\n",
       "    </tr>\n",
       "    <tr>\n",
       "      <th>...</th>\n",
       "      <td>...</td>\n",
       "      <td>...</td>\n",
       "      <td>...</td>\n",
       "    </tr>\n",
       "    <tr>\n",
       "      <th>38760</th>\n",
       "      <td>False</td>\n",
       "      <td>False</td>\n",
       "      <td>False</td>\n",
       "    </tr>\n",
       "    <tr>\n",
       "      <th>38761</th>\n",
       "      <td>False</td>\n",
       "      <td>False</td>\n",
       "      <td>False</td>\n",
       "    </tr>\n",
       "    <tr>\n",
       "      <th>38762</th>\n",
       "      <td>False</td>\n",
       "      <td>False</td>\n",
       "      <td>False</td>\n",
       "    </tr>\n",
       "    <tr>\n",
       "      <th>38763</th>\n",
       "      <td>False</td>\n",
       "      <td>False</td>\n",
       "      <td>False</td>\n",
       "    </tr>\n",
       "    <tr>\n",
       "      <th>38764</th>\n",
       "      <td>False</td>\n",
       "      <td>False</td>\n",
       "      <td>False</td>\n",
       "    </tr>\n",
       "  </tbody>\n",
       "</table>\n",
       "<p>38765 rows × 3 columns</p>\n",
       "</div>"
      ],
      "text/plain": [
       "       Member_number   Date  itemDescription\n",
       "0              False  False            False\n",
       "1              False  False            False\n",
       "2              False  False            False\n",
       "3              False  False            False\n",
       "4              False  False            False\n",
       "...              ...    ...              ...\n",
       "38760          False  False            False\n",
       "38761          False  False            False\n",
       "38762          False  False            False\n",
       "38763          False  False            False\n",
       "38764          False  False            False\n",
       "\n",
       "[38765 rows x 3 columns]"
      ]
     },
     "execution_count": 6,
     "metadata": {},
     "output_type": "execute_result"
    }
   ],
   "source": [
    "df.isnull()"
   ]
  },
  {
   "cell_type": "code",
   "execution_count": 7,
   "id": "aa3d6b5f-885c-4d52-a21e-9651e50fa0a0",
   "metadata": {},
   "outputs": [
    {
     "data": {
      "text/plain": [
       "Member_number      0\n",
       "Date               0\n",
       "itemDescription    0\n",
       "dtype: int64"
      ]
     },
     "execution_count": 7,
     "metadata": {},
     "output_type": "execute_result"
    }
   ],
   "source": [
    "df.isnull().sum()"
   ]
  },
  {
   "cell_type": "code",
   "execution_count": 8,
   "id": "d0c00b23-86ce-4097-94f4-35b766b74db1",
   "metadata": {},
   "outputs": [
    {
     "data": {
      "text/html": [
       "<div>\n",
       "<style scoped>\n",
       "    .dataframe tbody tr th:only-of-type {\n",
       "        vertical-align: middle;\n",
       "    }\n",
       "\n",
       "    .dataframe tbody tr th {\n",
       "        vertical-align: top;\n",
       "    }\n",
       "\n",
       "    .dataframe thead th {\n",
       "        text-align: right;\n",
       "    }\n",
       "</style>\n",
       "<table border=\"1\" class=\"dataframe\">\n",
       "  <thead>\n",
       "    <tr style=\"text-align: right;\">\n",
       "      <th></th>\n",
       "      <th>Member_number</th>\n",
       "      <th>Date</th>\n",
       "      <th>itemDescription</th>\n",
       "    </tr>\n",
       "  </thead>\n",
       "  <tbody>\n",
       "    <tr>\n",
       "      <th>0</th>\n",
       "      <td>1808</td>\n",
       "      <td>21-07-2015</td>\n",
       "      <td>tropical fruit</td>\n",
       "    </tr>\n",
       "    <tr>\n",
       "      <th>1</th>\n",
       "      <td>2552</td>\n",
       "      <td>05-01-2015</td>\n",
       "      <td>whole milk</td>\n",
       "    </tr>\n",
       "    <tr>\n",
       "      <th>2</th>\n",
       "      <td>2300</td>\n",
       "      <td>19-09-2015</td>\n",
       "      <td>pip fruit</td>\n",
       "    </tr>\n",
       "    <tr>\n",
       "      <th>3</th>\n",
       "      <td>1187</td>\n",
       "      <td>12-12-2015</td>\n",
       "      <td>other vegetables</td>\n",
       "    </tr>\n",
       "    <tr>\n",
       "      <th>4</th>\n",
       "      <td>3037</td>\n",
       "      <td>01-02-2015</td>\n",
       "      <td>whole milk</td>\n",
       "    </tr>\n",
       "  </tbody>\n",
       "</table>\n",
       "</div>"
      ],
      "text/plain": [
       "   Member_number        Date   itemDescription\n",
       "0           1808  21-07-2015    tropical fruit\n",
       "1           2552  05-01-2015        whole milk\n",
       "2           2300  19-09-2015         pip fruit\n",
       "3           1187  12-12-2015  other vegetables\n",
       "4           3037  01-02-2015        whole milk"
      ]
     },
     "execution_count": 8,
     "metadata": {},
     "output_type": "execute_result"
    }
   ],
   "source": [
    "df.head()"
   ]
  },
  {
   "cell_type": "code",
   "execution_count": 9,
   "id": "68cf281d-706d-4f55-8307-b30a79a6cf80",
   "metadata": {},
   "outputs": [
    {
     "data": {
      "text/html": [
       "<div>\n",
       "<style scoped>\n",
       "    .dataframe tbody tr th:only-of-type {\n",
       "        vertical-align: middle;\n",
       "    }\n",
       "\n",
       "    .dataframe tbody tr th {\n",
       "        vertical-align: top;\n",
       "    }\n",
       "\n",
       "    .dataframe thead th {\n",
       "        text-align: right;\n",
       "    }\n",
       "</style>\n",
       "<table border=\"1\" class=\"dataframe\">\n",
       "  <thead>\n",
       "    <tr style=\"text-align: right;\">\n",
       "      <th></th>\n",
       "      <th></th>\n",
       "      <th>itemDescription</th>\n",
       "    </tr>\n",
       "    <tr>\n",
       "      <th>Member_number</th>\n",
       "      <th>Date</th>\n",
       "      <th></th>\n",
       "    </tr>\n",
       "  </thead>\n",
       "  <tbody>\n",
       "    <tr>\n",
       "      <th rowspan=\"5\" valign=\"top\">1000</th>\n",
       "      <th>15-03-2015</th>\n",
       "      <td>4</td>\n",
       "    </tr>\n",
       "    <tr>\n",
       "      <th>24-06-2014</th>\n",
       "      <td>3</td>\n",
       "    </tr>\n",
       "    <tr>\n",
       "      <th>24-07-2015</th>\n",
       "      <td>2</td>\n",
       "    </tr>\n",
       "    <tr>\n",
       "      <th>25-11-2015</th>\n",
       "      <td>2</td>\n",
       "    </tr>\n",
       "    <tr>\n",
       "      <th>27-05-2015</th>\n",
       "      <td>2</td>\n",
       "    </tr>\n",
       "    <tr>\n",
       "      <th>...</th>\n",
       "      <th>...</th>\n",
       "      <td>...</td>\n",
       "    </tr>\n",
       "    <tr>\n",
       "      <th rowspan=\"2\" valign=\"top\">4999</th>\n",
       "      <th>24-01-2015</th>\n",
       "      <td>6</td>\n",
       "    </tr>\n",
       "    <tr>\n",
       "      <th>26-12-2015</th>\n",
       "      <td>2</td>\n",
       "    </tr>\n",
       "    <tr>\n",
       "      <th rowspan=\"3\" valign=\"top\">5000</th>\n",
       "      <th>09-03-2014</th>\n",
       "      <td>2</td>\n",
       "    </tr>\n",
       "    <tr>\n",
       "      <th>10-02-2015</th>\n",
       "      <td>3</td>\n",
       "    </tr>\n",
       "    <tr>\n",
       "      <th>16-11-2014</th>\n",
       "      <td>2</td>\n",
       "    </tr>\n",
       "  </tbody>\n",
       "</table>\n",
       "<p>14963 rows × 1 columns</p>\n",
       "</div>"
      ],
      "text/plain": [
       "                          itemDescription\n",
       "Member_number Date                       \n",
       "1000          15-03-2015                4\n",
       "              24-06-2014                3\n",
       "              24-07-2015                2\n",
       "              25-11-2015                2\n",
       "              27-05-2015                2\n",
       "...                                   ...\n",
       "4999          24-01-2015                6\n",
       "              26-12-2015                2\n",
       "5000          09-03-2014                2\n",
       "              10-02-2015                3\n",
       "              16-11-2014                2\n",
       "\n",
       "[14963 rows x 1 columns]"
      ]
     },
     "execution_count": 9,
     "metadata": {},
     "output_type": "execute_result"
    }
   ],
   "source": [
    "transactions=df.groupby(['Member_number','Date'])#here each group corresponds to a unique combination of 'Member_number' and 'Date'.\n",
    "transactions.count()\n",
    "\n",
    "#The result is a DataFrame where the counts represent the number of occurrences for each combination of 'Member_number' and 'Date'."
   ]
  },
  {
   "cell_type": "code",
   "execution_count": 10,
   "id": "21cb3493-1083-48e0-a043-3ab15d8de3fc",
   "metadata": {},
   "outputs": [],
   "source": [
    "support=(df['itemDescription'].value_counts()/14963*100)\n",
    "\n",
    "#For example, if 'Item A' has a support of 5%, it means that 'Item A' appears in 5% of the total transactions in the dataset."
   ]
  },
  {
   "cell_type": "code",
   "execution_count": 11,
   "id": "218a6ec0-52a0-401f-8c72-41b0d14fd8fc",
   "metadata": {},
   "outputs": [
    {
     "data": {
      "text/plain": [
       "itemDescription\n",
       "whole milk          16.721246\n",
       "other vegetables    12.684622\n",
       "rolls/buns          11.468288\n",
       "soda                10.118292\n",
       "yogurt               8.915324\n",
       "Name: count, dtype: float64"
      ]
     },
     "execution_count": 11,
     "metadata": {},
     "output_type": "execute_result"
    }
   ],
   "source": [
    "support.head()"
   ]
  },
  {
   "cell_type": "code",
   "execution_count": 12,
   "id": "013ea1a0-1270-4913-afd7-4cc6749f4789",
   "metadata": {},
   "outputs": [
    {
     "data": {
      "image/png": "[encoded data removed]",
      "text/plain": [
       "<Figure size 1000x700 with 1 Axes>"
      ]
     },
     "metadata": {},
     "output_type": "display_data"
    }
   ],
   "source": [
    "plt.figure(figsize=(10,7))\n",
    "bars=plt.bar(x=np.arange(len(support.head(10))),height=support.head(10))\n",
    "plt.bar_label(bars,fontsize=12,color='cyan',fmt=\"%2.1f%%\",label_type='center')\n",
    "plt.xticks(ticks=np.arange(len(support.head(10))),labels=support.index[:10])\n",
    "plt.title('Top 10 products by Support')\n",
    "plt.xlabel('Product Name')\n",
    "plt.ylabel('Support')\n",
    "plt.show()"
   ]
  },
  {
   "cell_type": "code",
   "execution_count": 13,
   "id": "c9d1ec63-5bcd-448b-9a97-1f1e898c7fb1",
   "metadata": {},
   "outputs": [
    {
     "data": {
      "text/plain": [
       "[['sausage', 'whole milk', 'semi-finished bread', 'yogurt'],\n",
       " ['whole milk', 'pastry', 'salty snack'],\n",
       " ['canned beer', 'misc. beverages'],\n",
       " ['sausage', 'hygiene articles'],\n",
       " ['soda', 'pickled vegetables'],\n",
       " ['frankfurter', 'curd'],\n",
       " ['sausage', 'whole milk', 'rolls/buns'],\n",
       " ['whole milk', 'soda'],\n",
       " ['beef', 'white bread'],\n",
       " ['frankfurter', 'soda', 'whipped/sour cream']]"
      ]
     },
     "execution_count": 13,
     "metadata": {},
     "output_type": "execute_result"
    }
   ],
   "source": [
    "list_transactions = transactions['itemDescription'].apply(list).tolist()\n",
    "list_transactions[:10]"
   ]
  },
  {
   "cell_type": "code",
   "execution_count": 14,
   "id": "4204ebb1-6112-41b1-8e38-902ab965ce84",
   "metadata": {},
   "outputs": [],
   "source": [
    "rules=apriori(list_transactions,min_support=0.001,min_confidence=0.05,min_lift=1.2,max_length=2)\n",
    "result=list(rules)\n",
    "\n",
    "#Support is the proportion of transactions in the dataset that contain the items in the rule.\n",
    "#Confidence is the probability that a transaction containing the antecedent also contains the consequent.\n",
    "#Lift = 1: If the lift is 1, it means that the occurrence of A and B together is just as likely as if they were independent.\n",
    "#In other words, there's no special association between A and B.\n",
    "#Lift > 1: If the lift is greater than 1, it indicates that A and B are more likely to be bought together than if they were chosen independently. \n",
    "#The higher the lift, the stronger the association.\n",
    "#Lift < 1: If the lift is less than 1, it suggests that A and B are less likely to be bought together than if they were chosen independently. \n",
    "#This implies a negative or inhibitory relationship.\n",
    "#\"max length\" refers to a parameter that limits the maximum number of items (or features) in an association rule. \n",
    "#This parameter controls the complexity of the rules generated by the algorithm."
   ]
  },
  {
   "cell_type": "code",
   "execution_count": 15,
   "id": "a041c9c4-1b63-4ec5-96c5-4810c493f9da",
   "metadata": {},
   "outputs": [
    {
     "name": "stdout",
     "output_type": "stream",
     "text": [
      "28\n"
     ]
    }
   ],
   "source": [
    "print(len(result))"
   ]
  },
  {
   "cell_type": "code",
   "execution_count": 16,
   "id": "dd63b25c-413b-4e96-b30b-cda511ead1b5",
   "metadata": {},
   "outputs": [
    {
     "name": "stdout",
     "output_type": "stream",
     "text": [
      "Rule: beverages -> sausage\n",
      "Support: 0.0015371249081066632\n",
      "Confidence: 0.09274193548387098\n",
      "Lift: 1.5367636551995143\n",
      "_____________________________________________\n",
      "Rule: bottled beer -> sausage\n",
      "Support: 0.003341575887188398\n",
      "Confidence: 0.07374631268436578\n",
      "Lift: 1.2220000849348451\n",
      "_____________________________________________\n",
      "Rule: sugar -> bottled water\n",
      "Support: 0.0014702933903628951\n",
      "Confidence: 0.0830188679245283\n",
      "Lift: 1.368074141800349\n",
      "_____________________________________________\n",
      "Rule: canned beer -> brown bread\n",
      "Support: 0.0024059346387756467\n",
      "Confidence: 0.06394316163410303\n",
      "Lift: 1.3629366489046777\n",
      "_____________________________________________\n",
      "Rule: citrus fruit -> candy\n",
      "Support: 0.0010024727661565194\n",
      "Confidence: 0.06976744186046512\n",
      "Lift: 1.3131197893813076\n",
      "_____________________________________________\n",
      "Rule: canned beer -> white bread\n",
      "Support: 0.0015371249081066632\n",
      "Confidence: 0.06406685236768803\n",
      "Lift: 1.3655730939853503\n",
      "_____________________________________________\n",
      "Rule: cat food -> tropical fruit\n",
      "Support: 0.0010024727661565194\n",
      "Confidence: 0.08474576271186442\n",
      "Lift: 1.250543242068666\n",
      "_____________________________________________\n",
      "Rule: yogurt -> chewing gum\n",
      "Support: 0.001403461872619127\n",
      "Confidence: 0.11666666666666667\n",
      "Lift: 1.358508430609598\n",
      "_____________________________________________\n",
      "Rule: specialty chocolate -> citrus fruit\n",
      "Support: 0.001403461872619127\n",
      "Confidence: 0.08786610878661087\n",
      "Lift: 1.6537617431120233\n",
      "_____________________________________________\n",
      "Rule: sausage -> curd\n",
      "Support: 0.0029405867807257902\n",
      "Confidence: 0.08730158730158731\n",
      "Lift: 1.446615338641917\n",
      "_____________________________________________\n",
      "Rule: yogurt -> detergent\n",
      "Support: 0.0010693042839002875\n",
      "Confidence: 0.12403100775193798\n",
      "Lift: 1.4442614544686756\n",
      "_____________________________________________\n",
      "Rule: tropical fruit -> flour\n",
      "Support: 0.0010693042839002875\n",
      "Confidence: 0.10958904109589042\n",
      "Lift: 1.6171408500175626\n",
      "_____________________________________________\n",
      "Rule: sausage -> frozen meals\n",
      "Support: 0.0012697988371315912\n",
      "Confidence: 0.07569721115537849\n",
      "Lift: 1.2543270991339184\n",
      "_____________________________________________\n",
      "Rule: frozen vegetables -> sausage\n",
      "Support: 0.0020717770500568067\n",
      "Confidence: 0.07398568019093078\n",
      "Lift: 1.2259664813919129\n",
      "_____________________________________________\n",
      "Rule: grapes -> sausage\n",
      "Support: 0.0010693042839002875\n",
      "Confidence: 0.07407407407407408\n",
      "Lift: 1.2274311964234446\n",
      "_____________________________________________\n",
      "Rule: hard cheese -> pip fruit\n",
      "Support: 0.0010693042839002875\n",
      "Confidence: 0.07272727272727274\n",
      "Lift: 1.482586078771365\n",
      "_____________________________________________\n",
      "Rule: yogurt -> herbs\n",
      "Support: 0.0011361358016440553\n",
      "Confidence: 0.10759493670886075\n",
      "Lift: 1.2528739595133722\n",
      "_____________________________________________\n",
      "Rule: pastry -> napkins\n",
      "Support: 0.0017376194613379669\n",
      "Confidence: 0.07854984894259819\n",
      "Lift: 1.5185289272972826\n",
      "_____________________________________________\n",
      "Rule: soda -> oil\n",
      "Support: 0.001804450979081735\n",
      "Confidence: 0.12107623318385649\n",
      "Lift: 1.246843549298035\n",
      "_____________________________________________\n",
      "Rule: whipped/sour cream -> onions\n",
      "Support: 0.0010693042839002875\n",
      "Confidence: 0.05280528052805281\n",
      "Lift: 1.2081428326318873\n",
      "_____________________________________________\n",
      "Rule: packaged fruit/vegetables -> rolls/buns\n",
      "Support: 0.0012029673193878234\n",
      "Confidence: 0.14173228346456695\n",
      "Lift: 1.2884205087972755\n",
      "_____________________________________________\n",
      "Rule: rolls/buns -> processed cheese\n",
      "Support: 0.0014702933903628951\n",
      "Confidence: 0.14473684210526316\n",
      "Lift: 1.315733516659206\n",
      "_____________________________________________\n",
      "Rule: root vegetables -> processed cheese\n",
      "Support: 0.0010693042839002875\n",
      "Confidence: 0.10526315789473686\n",
      "Lift: 1.5130188583851563\n",
      "_____________________________________________\n",
      "Rule: rolls/buns -> seasonal products\n",
      "Support: 0.0010024727661565194\n",
      "Confidence: 0.14150943396226415\n",
      "Lift: 1.2863946903872165\n",
      "_____________________________________________\n",
      "Rule: root vegetables -> sliced cheese\n",
      "Support: 0.0012029673193878234\n",
      "Confidence: 0.08571428571428572\n",
      "Lift: 1.2320296418279126\n",
      "_____________________________________________\n",
      "Rule: sausage -> sliced cheese\n",
      "Support: 0.0011361358016440553\n",
      "Confidence: 0.08095238095238094\n",
      "Lift: 1.3414069503770498\n",
      "_____________________________________________\n",
      "Rule: yogurt -> soft cheese\n",
      "Support: 0.0012697988371315912\n",
      "Confidence: 0.12666666666666665\n",
      "Lift: 1.4749520103761347\n",
      "_____________________________________________\n",
      "Rule: specialty chocolate -> tropical fruit\n",
      "Support: 0.0013366303548753592\n",
      "Confidence: 0.08368200836820083\n",
      "Lift: 1.2348460465615279\n",
      "_____________________________________________\n"
     ]
    }
   ],
   "source": [
    "for item in result:\n",
    "    lhs, rhs = item[0]   #item[0] is tuple with 2 elements i.e lhs=item[0][0] and rhs=[0][1]\n",
    "    print(f\"Rule: {lhs} -> {rhs}\")\n",
    "    print(f\"Support: {item[1]}\")\n",
    "    print(f\"Confidence: {item[2][0][2]}\")\n",
    "    print(f\"Lift: {item[2][0][3]}\")\n",
    "    print(\"_____________________________________________\")"
   ]
  },
  {
   "cell_type": "code",
   "execution_count": null,
   "id": "6d523365-a4e3-4038-8281-b121f9f8cadf",
   "metadata": {},
   "outputs": [],
   "source": []
  }
 ],
 "metadata": {
  "kernelspec": {
   "display_name": "Python 3 (ipykernel)",
   "language": "python",
   "name": "python3"
  },
  "language_info": {
   "codemirror_mode": {
    "name": "ipython",
    "version": 3
   },
   "file_extension": ".py",
   "mimetype": "text/x-python",
   "name": "python",
   "nbconvert_exporter": "python",
   "pygments_lexer": "ipython3",
   "version": "3.12.0"
  }
 },
 "nbformat": 4,
 "nbformat_minor": 5
}
