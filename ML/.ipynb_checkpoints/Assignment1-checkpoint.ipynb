{
 "cells": [
  {
   "cell_type": "code",
   "execution_count": null,
   "id": "1eb37c73-2d14-4060-a327-ce3608e7881c",
   "metadata": {},
   "outputs": [],
   "source": [
    "pip install pandas"
   ]
  },
  {
   "cell_type": "code",
   "execution_count": null,
   "id": "ec1de8de-b4e9-486c-8ffb-52cb1ff6eb54",
   "metadata": {},
   "outputs": [],
   "source": [
    "#importing all required libraries\n",
    "import numpy as np\n",
    "import pandas as pd"
   ]
  },
  {
   "cell_type": "code",
   "execution_count": null,
   "id": "5f02de01-9e9d-40f7-81e2-4c58a8498226",
   "metadata": {},
   "outputs": [],
   "source": [
    "#stores the data of Heart.csv into data variable in a tabular format\n",
    "heart=pd.read_csv(\"archive/Heart.csv\")"
   ]
  },
  {
   "cell_type": "code",
   "execution_count": null,
   "id": "d48ee35f-5fb7-46be-ac70-e04b22d0a8a8",
   "metadata": {},
   "outputs": [],
   "source": [
    "heart"
   ]
  },
  {
   "cell_type": "code",
   "execution_count": null,
   "id": "f9fb53a9-9664-430b-ae7d-aca0940e4b9c",
   "metadata": {},
   "outputs": [],
   "source": [
    "#number of rows x columns\n",
    "heart.shape"
   ]
  },
  {
   "cell_type": "code",
   "execution_count": null,
   "id": "a554e6b9-ef33-4fbd-ae0e-a8b0f49c770f",
   "metadata": {},
   "outputs": [],
   "source": [
    "#checks is value is null or not, False = Not Null AND True = NULL\n",
    "heart.isna()"
   ]
  },
  {
   "cell_type": "code",
   "execution_count": null,
   "id": "822ee263-7842-4595-ab52-41089f9d946a",
   "metadata": {},
   "outputs": [],
   "source": [
    "#counts NULL values in each column\n",
    "heart.isna().sum()"
   ]
  },
  {
   "cell_type": "code",
   "execution_count": null,
   "id": "1a643e96-1939-4ebd-9151-00818b935388",
   "metadata": {},
   "outputs": [],
   "source": [
    "#total number of NULL values\n",
    "heart.isna().sum().sum()"
   ]
  },
  {
   "cell_type": "code",
   "execution_count": null,
   "id": "a51e120c-3968-4daa-8814-f20c9ebeb350",
   "metadata": {},
   "outputs": [],
   "source": [
    "#it shows various descriptive statistics for a DataFrame. count= number of non nulls in cols, mean, SD, min val of col,max val of col, 25% val, 50% val, 75% val.\n",
    "heart.describe()"
   ]
  },
  {
   "cell_type": "code",
   "execution_count": null,
   "id": "5d315084-66f3-453f-8def-2b3d51be6212",
   "metadata": {},
   "outputs": [],
   "source": [
    "#information of each column col no., col name, no of non null cols, datat types, etc\n",
    "heart.info()"
   ]
  },
  {
   "cell_type": "code",
   "execution_count": null,
   "id": "c9d7cc34-1646-4b16-a271-d8caf831ce02",
   "metadata": {},
   "outputs": [],
   "source": [
    "#shows data types of each cols\n",
    "heart.dtypes"
   ]
  },
  {
   "cell_type": "code",
   "execution_count": null,
   "id": "0da995ea-d36e-4f19-a883-50f28c25993b",
   "metadata": {},
   "outputs": [],
   "source": [
    "#is used to count the number of occurrences of the value 0 in each column of the Pandas DataFrame named \"heart.\"\n",
    "#(heart == 0) creates a Boolean DataFrame where each element is True if the corresponding element in the original DataFrame \"heart\" is equal to 0 \n",
    "#and False otherwise. \n",
    "\n",
    "#shows number of zeros in each Column\n",
    "(heart==0).sum(axis=0) #value can be any for heart==val."
   ]
  },
  {
   "cell_type": "code",
   "execution_count": null,
   "id": "564e60a8-4f99-43ca-8d34-eb8e7ad94da8",
   "metadata": {},
   "outputs": [],
   "source": [
    "#shows number of zeros in each ROW\n",
    "(heart==0).sum(axis=1)"
   ]
  },
  {
   "cell_type": "code",
   "execution_count": null,
   "id": "345144df-f201-459d-af07-64bbd8330f87",
   "metadata": {},
   "outputs": [],
   "source": [
    "#finds std of Sex Column, can be used for count,mean,std,min,max\n",
    "heart['Sex'].std()"
   ]
  },
  {
   "cell_type": "code",
   "execution_count": null,
   "id": "f2fafd6c-841c-4fda-9613-8be07278d8d6",
   "metadata": {},
   "outputs": [],
   "source": [
    "#stores only specific columns in data variable\n",
    "data=heart[[\"Age\",\"Sex\",\"ChestPain\",\"RestBP\",\"Chol\"]]\n",
    "data"
   ]
  },
  {
   "cell_type": "code",
   "execution_count": null,
   "id": "53b7b3db-9650-4682-89d2-7c7e9b2282ff",
   "metadata": {},
   "outputs": [],
   "source": [
    "pip install scikit-learn"
   ]
  },
  {
   "cell_type": "code",
   "execution_count": null,
   "id": "60a516bb-ae9e-4c4c-9595-d289fb1f7eaa",
   "metadata": {},
   "outputs": [],
   "source": [
    "import matplotlib.pyplot as plt\n",
    "from sklearn import metrics"
   ]
  },
  {
   "cell_type": "code",
   "execution_count": null,
   "id": "1b919b92-0e7f-4755-8d2f-655d93769ad9",
   "metadata": {},
   "outputs": [],
   "source": [
    "plt.scatter(data.Age,data.RestBP,label=\"RestBP\")\n",
    "plt.xlabel(\"Age\")\n",
    "plt.ylabel(\"RestBP\")\n",
    "plt.title(\"RestBP of People\")\n",
    "plt.legend()\n",
    "plt.show()"
   ]
  },
  {
   "cell_type": "code",
   "execution_count": null,
   "id": "e0b62b15-25c8-4bcf-975c-b04de17adb3b",
   "metadata": {},
   "outputs": [],
   "source": [
    "plt.scatter(data.Age[data.Sex==1],data.Chol[data.Sex==1],color='green',label=\"Male\")\n",
    "plt.scatter(data.Age[data.Sex==0],data.Chol[data.Sex==0],color='orange',label=\"Female\")\n",
    "plt.xlabel(\"Age\")\n",
    "plt.ylabel(\"Chol\")\n",
    "plt.title(\"Cholestrol of people\")\n",
    "plt.legend(loc=\"upper left\")\n",
    "plt.show()"
   ]
  },
  {
   "cell_type": "code",
   "execution_count": null,
   "id": "f6842ce3-33c6-44e2-be98-35ff849680a3",
   "metadata": {},
   "outputs": [],
   "source": [
    "data1 = [heart.ChestPain[heart.ChestPain == 'typical'].count(),heart.ChestPain[heart.ChestPain == 'asymptomatic'].count()\n",
    ",heart.ChestPain[heart.ChestPain == 'nonanginal'].count(),heart.ChestPain[heart.ChestPain == 'nonanginal'].count()]\n",
    "label1 = ['typical', 'asymptomatic', 'nonanginal', 'nontypical']\n",
    "plt.pie(data1,labels=label1);\n",
    "plt.title(\"People with Chestpain\")\n",
    "plt.show()"
   ]
  },
  {
   "cell_type": "code",
   "execution_count": null,
   "id": "a74f669e-f54f-43a3-9a31-4b641c964e2c",
   "metadata": {},
   "outputs": [],
   "source": [
    "plt.hist(heart.MaxHR,bins=20,color='Blue')\n",
    "plt.title(\"Max HR\")\n",
    "plt.show()"
   ]
  },
  {
   "cell_type": "code",
   "execution_count": null,
   "id": "0ee7a477-d9bc-41b2-bb78-5e2bece04abf",
   "metadata": {},
   "outputs": [],
   "source": [
    "var=np.array([[10,20,30],[29,19,9]])\n",
    "print(\"Column min : \",var.min(axis=0))\n",
    "print(\"Column max : \",var.max(axis=0))\n",
    "print(\"Row min    : \",var.min(axis=1))\n",
    "print(\"Row max    : \",var.max(axis=1))"
   ]
  },
  {
   "cell_type": "code",
   "execution_count": null,
   "id": "a0ebc6a5-0476-4c8c-a75c-a63c95e23537",
   "metadata": {},
   "outputs": [],
   "source": [
    "tp = 45  # true positives\n",
    "tn = 395  # true negatives\n",
    "fp = 55  # false positives\n",
    "fn = 5   # false negatives\n",
    "\n",
    "# Construct the confusion matrix\n",
    "confusion_matrix = np.array([[tp, fn], [fp, tn]])\n",
    "\n",
    "# Create a confusion matrix display\n",
    "cm_display = metrics.ConfusionMatrixDisplay(confusion_matrix=confusion_matrix, display_labels=[0, 1])\n",
    "\n",
    "# Plot the confusion matrix\n",
    "cm_display.plot(cmap='Greens')  # You can choose a colormap as per your preference\n",
    "plt.title('Confusion Matrix')\n",
    "plt.show()\n"
   ]
  },
  {
   "cell_type": "code",
   "execution_count": null,
   "id": "9d213746-02e0-4c78-97fd-d4c82c6dfbda",
   "metadata": {},
   "outputs": [],
   "source": [
    "accuracy = ( tp + tn )/( tp + tn + fp + fn)\n",
    "precision = tp / ( tp + fp)\n",
    "recall = tp / ( tp + fn )\n",
    "f1score= 2 * ( precision * recall )/( precision + recall )\n",
    "\n",
    "print(\"Accuracy = \",accuracy)\n",
    "print(\"Precision = \",precision)\n",
    "print(\"Recall = \",recall)\n",
    "print(\"F1 Score = \",f1score)"
   ]
  },
  {
   "cell_type": "code",
   "execution_count": null,
   "id": "eb91604d-236d-4707-bc50-0aa7a0275ae0",
   "metadata": {},
   "outputs": [],
   "source": []
  }
 ],
 "metadata": {
  "kernelspec": {
   "display_name": "Python 3 (ipykernel)",
   "language": "python",
   "name": "python3"
  },
  "language_info": {
   "codemirror_mode": {
    "name": "ipython",
    "version": 3
   },
   "file_extension": ".py",
   "mimetype": "text/x-python",
   "name": "python",
   "nbconvert_exporter": "python",
   "pygments_lexer": "ipython3",
   "version": "3.10.2"
  }
 },
 "nbformat": 4,
 "nbformat_minor": 5
}
